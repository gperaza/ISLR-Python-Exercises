{
 "cells": [
  {
   "cell_type": "markdown",
   "metadata": {},
   "source": [
    "# ISLR- Python: Applied 8"
   ]
  },
  {
   "cell_type": "markdown",
   "metadata": {},
   "source": [
    "In this exercise, we will generate simulated data, and will then use this data to perform best subset selection."
   ]
  },
  {
   "cell_type": "markdown",
   "metadata": {},
   "source": [
    "## (a)  Use the random.normal() function to generate a predictor X of length n = 100, as well as a noise vector $\\epsilon$ of length n = 100.\n"
   ]
  },
  {
   "cell_type": "markdown",
   "metadata": {},
   "source": [
    "## (b) Generate a response vector Y of length n = 100 according to the model\n",
    "\n",
    "$$\n",
    "Y = \\beta_0 +\\beta_1 X + \\beta_2 X^2 \\beta_3 X^3 + \\epsilon\n",
    "$$\n",
    "where $\\beta_0$, $\\beta_0$, $\\beta_0$, and $\\beta_0$ are constants of your choice."
   ]
  },
  {
   "cell_type": "markdown",
   "metadata": {},
   "source": [
    "## (c) Perform best subset selection in order to choose the best model containing the predictors $X, X^2 ,\\ldots, X^{10}$.\n",
    "\n",
    "What is the best model obtained according to Cp , BIC, and adjusted R2? Show some plots to provide evidence for your answer, and report the coefficients of the best model obtained."
   ]
  },
  {
   "cell_type": "markdown",
   "metadata": {},
   "source": [
    "## (d) Repeat (c), using forward stepwise selection and also using backwards stepwise selection.\n",
    "How does your answer compare to the results in (c)?"
   ]
  },
  {
   "cell_type": "markdown",
   "metadata": {},
   "source": [
    "## (e) Now fit a lasso model to the simulated data, again using $X, X^2 ,\\ldots, X^{10}$ as predictors.\n",
    "Use cross-validation to select the optimal value of $\\lambda$. Create plots of the cross-validation error as a function\n",
    "of $\\lambda$. Report the resulting coefficient estimates, and discuss the results obtained."
   ]
  },
  {
   "cell_type": "markdown",
   "metadata": {},
   "source": [
    "## (f) Now generate a response vector Y according to the model\n",
    "$$\n",
    "Y = \\beta_0 + \\beta_7 X^7 + \\epsilon,\n",
    "$$\n",
    "and perform best subset selection and the lasso. Discuss the results obtained."
   ]
  }
 ],
 "metadata": {
  "kernelspec": {
   "display_name": "Python 3",
   "language": "python",
   "name": "python3"
  },
  "language_info": {
   "codemirror_mode": {
    "name": "ipython",
    "version": 3
   },
   "file_extension": ".py",
   "mimetype": "text/x-python",
   "name": "python",
   "nbconvert_exporter": "python",
   "pygments_lexer": "ipython3",
   "version": "3.6.1"
  },
  "varInspector": {
   "cols": {
    "lenName": 16,
    "lenType": 16,
    "lenVar": 40
   },
   "kernels_config": {
    "python": {
     "delete_cmd_postfix": "",
     "delete_cmd_prefix": "del ",
     "library": "var_list.py",
     "varRefreshCmd": "print(var_dic_list())"
    },
    "r": {
     "delete_cmd_postfix": ") ",
     "delete_cmd_prefix": "rm(",
     "library": "var_list.r",
     "varRefreshCmd": "cat(var_dic_list()) "
    }
   },
   "types_to_exclude": [
    "module",
    "function",
    "builtin_function_or_method",
    "instance",
    "_Feature"
   ],
   "window_display": false
  }
 },
 "nbformat": 4,
 "nbformat_minor": 1
}
