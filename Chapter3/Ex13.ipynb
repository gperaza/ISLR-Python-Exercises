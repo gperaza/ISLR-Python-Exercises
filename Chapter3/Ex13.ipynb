{
 "cells": [
  {
   "cell_type": "markdown",
   "metadata": {},
   "source": [
    "# ISLR- Python: Ch3 -- Applied Question 13"
   ]
  },
  {
   "cell_type": "code",
   "execution_count": 14,
   "metadata": {
    "collapsed": true
   },
   "outputs": [],
   "source": [
    "# perform standard imports\n",
    "import numpy as np\n",
    "import statsmodels.formula.api as smf\n",
    "import pandas as pd\n",
    "\n",
    "from matplotlib import pyplot as plt\n",
    "\n",
    "%matplotlib inline"
   ]
  },
  {
   "cell_type": "markdown",
   "metadata": {},
   "source": [
    "In this exercise you will create some simulated data and will fit simple linear regression models to it. Make sure to use seed(1) prior to starting part (a) to ensure consistent results."
   ]
  },
  {
   "cell_type": "markdown",
   "metadata": {},
   "source": [
    "## (a) Using the random.normal() function, create a vector, x, containing 100 observations drawn from a N (0, 1) distribution. This represents a feature, X."
   ]
  },
  {
   "cell_type": "markdown",
   "metadata": {},
   "source": [
    "## (b) Using the random.normal() function, create a vector, eps, containing 100 observations drawn from a N (0, 0.25) distribution i.e. a normal distribution with mean zero and variance 0.25."
   ]
  },
  {
   "cell_type": "markdown",
   "metadata": {},
   "source": [
    "## (c)\n",
    "Using x and eps, generate a vector y according to the model\n",
    "$$\n",
    "Y = -1 + 0.5X + \\epsilon\n",
    "$$\n",
    "What is the length of the vector y? What are the values of $\\beta_0$ and $\\beta_1$ in this linear model?"
   ]
  },
  {
   "cell_type": "markdown",
   "metadata": {},
   "source": [
    "## (d) Create a scatterplot displaying the relationship between x and y.\n",
    "Comment on what you observe."
   ]
  },
  {
   "cell_type": "markdown",
   "metadata": {},
   "source": [
    "## (e) Fit a least squares linear model to predict y using x.\n",
    "Comment on the model obtained. How do $\\hat{\\beta_0}$ and $\\hat{\\beta_1}$ compare to $\\beta_0$ and $\\beta_1$ ?"
   ]
  },
  {
   "cell_type": "markdown",
   "metadata": {},
   "source": [
    "## (f) Display the least squares line on the scatterplot obtained in (d).\n",
    "Draw the population regression line on the plot, in a different color. Use the legend() command to create an appropriate legend."
   ]
  },
  {
   "cell_type": "markdown",
   "metadata": {},
   "source": [
    "## (g) Now fit a polynomial regression model that predicts y using $x$ and $x^2$ .\n",
    "Is there evidence that the quadratic term improves the model fit? Explain your answer."
   ]
  },
  {
   "cell_type": "markdown",
   "metadata": {},
   "source": [
    "## (h) Repeat (a)–(f) after modifying the data generation process in such a way that there is less noise in the data.\n",
    "The model should remain the same. You can do this by decreasing the variance of the normal distribution used to generate the error term $\\epsilon$ in (b). Describe your results."
   ]
  },
  {
   "cell_type": "markdown",
   "metadata": {},
   "source": [
    "## (i) Repeat (a)–(f) after modifying the data generation process in such a way that there is more noise in the data.\n",
    "The model should remain the same. You can do this by increasing the variance of the normal distribution used to generate the error term $\\epsilon$ in (b). Describe your results."
   ]
  },
  {
   "cell_type": "markdown",
   "metadata": {},
   "source": [
    "## (j) What are the confidence intervals for $\\beta_0$ and $\\beta_1$ based on the original data set, the noisier data set, and the less noisy data set? Comment on your results."
   ]
  }
 ],
 "metadata": {
  "kernelspec": {
   "display_name": "Python 3",
   "language": "python",
   "name": "python3"
  },
  "language_info": {
   "codemirror_mode": {
    "name": "ipython",
    "version": 3
   },
   "file_extension": ".py",
   "mimetype": "text/x-python",
   "name": "python",
   "nbconvert_exporter": "python",
   "pygments_lexer": "ipython3",
   "version": "3.6.1"
  },
  "varInspector": {
   "cols": {
    "lenName": 16,
    "lenType": 16,
    "lenVar": 40
   },
   "kernels_config": {
    "python": {
     "delete_cmd_postfix": "",
     "delete_cmd_prefix": "del ",
     "library": "var_list.py",
     "varRefreshCmd": "print(var_dic_list())"
    },
    "r": {
     "delete_cmd_postfix": ") ",
     "delete_cmd_prefix": "rm(",
     "library": "var_list.r",
     "varRefreshCmd": "cat(var_dic_list()) "
    }
   },
   "types_to_exclude": [
    "module",
    "function",
    "builtin_function_or_method",
    "instance",
    "_Feature"
   ],
   "window_display": false
  }
 },
 "nbformat": 4,
 "nbformat_minor": 1
}
